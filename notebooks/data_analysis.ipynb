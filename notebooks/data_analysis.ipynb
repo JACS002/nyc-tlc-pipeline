{
 "cells": [
  {
   "cell_type": "markdown",
   "id": "a9ce72a8-516a-4283-8992-d0586250223d",
   "metadata": {
    "collapsed": false,
    "name": "cell6"
   },
   "source": [
    "Demanda por zona y mes – Pickup"
   ]
  },
  {
   "cell_type": "code",
   "execution_count": null,
   "id": "8d50cbf4-0c8d-4950-86cb-114990437ac9",
   "metadata": {
    "language": "sql",
    "name": "cell2"
   },
   "outputs": [],
   "source": [
    "with base as (\n",
    "  select\n",
    "      t.year,\n",
    "      t.month,\n",
    "      dz.zone_id,\n",
    "      dz.borough,\n",
    "      dz.zone,\n",
    "      count(*) as trips\n",
    "  from GOLD.FCT_TRIPS t\n",
    "  left join GOLD.DIM_ZONE dz on dz.zone_sk = t.pu_zone_sk\n",
    "  where t.pickup_datetime between '2019-01-01' and '2019-12-31'\n",
    "  group by 1,2,3,4,5\n",
    "),\n",
    "ranked as (\n",
    "  select *,\n",
    "         row_number() over (partition by year, month order by trips desc) as rn\n",
    "  from base\n",
    ")\n",
    "select year, month, zone_id, borough, zone, trips\n",
    "from ranked\n",
    "where rn <= 10\n",
    "order by year, month, trips desc;\n"
   ]
  },
  {
   "cell_type": "markdown",
   "id": "9434cbd2-cc3b-4134-b743-ac4330c63712",
   "metadata": {
    "collapsed": false,
    "name": "cell7"
   },
   "source": [
    "Demanda por zona y mes – Dropoff"
   ]
  },
  {
   "cell_type": "code",
   "execution_count": null,
   "id": "c695373e-ac74-4b62-a1f1-08206cbd5c81",
   "metadata": {
    "language": "sql",
    "name": "cell3"
   },
   "outputs": [],
   "source": [
    "with base as (\n",
    "  select\n",
    "      t.year,\n",
    "      t.month,\n",
    "      dz.zone_id,\n",
    "      dz.borough,\n",
    "      dz.zone,\n",
    "      count(*) as trips\n",
    "  from GOLD.FCT_TRIPS t\n",
    "  left join GOLD.DIM_ZONE dz on dz.zone_sk = t.do_zone_sk\n",
    "  where t.pickup_datetime between '2019-01-01' and '2019-12-31'\n",
    "  group by 1,2,3,4,5\n",
    "),\n",
    "ranked as (\n",
    "  select *,\n",
    "         row_number() over (partition by year, month order by trips desc) as rn\n",
    "  from base\n",
    ")\n",
    "select year, month, zone_id, borough, zone, trips\n",
    "from ranked\n",
    "where rn <= 10\n",
    "order by year, month, trips desc;\n"
   ]
  },
  {
   "cell_type": "markdown",
   "id": "0c125b7c-8dc1-4554-961d-4f8ee2cc6c7c",
   "metadata": {
    "collapsed": false,
    "name": "cell8"
   },
   "source": [
    "Ingresos por borough y mes (PU)"
   ]
  },
  {
   "cell_type": "code",
   "execution_count": null,
   "id": "a119eb53-3549-4599-a05f-f8ff2211d6ba",
   "metadata": {
    "language": "sql",
    "name": "cell4"
   },
   "outputs": [],
   "source": [
    "select\n",
    "    dz.borough,\n",
    "    t.year,\n",
    "    t.month,\n",
    "    sum(t.total_amount) as revenue_usd\n",
    "from GOLD.FCT_TRIPS t\n",
    "left join GOLD.DIM_ZONE dz on dz.zone_sk = t.pu_zone_sk\n",
    "where t.pickup_datetime between '2019-01-01' and '2019-12-31'\n",
    "group by 1,2,3\n",
    "order by 2,3,1;\n"
   ]
  },
  {
   "cell_type": "code",
   "execution_count": null,
   "id": "7adc7a71-84fb-490b-9447-71890bf0c8e5",
   "metadata": {
    "codeCollapsed": false,
    "collapsed": false,
    "language": "sql",
    "name": "cell9"
   },
   "outputs": [],
   "source": [
    "select\n",
    "  dz.borough,\n",
    "  t.year,\n",
    "  t.month,\n",
    "  sum(t.total_amount)                                  as revenue_gross_usd,\n",
    "  sum(coalesce(t.tip_amount,0))                        as tips_usd,\n",
    "  sum(t.total_amount) - sum(coalesce(t.tip_amount,0))  as revenue_net_ex_tip_usd,\n",
    "  round(nullif(sum(coalesce(t.tip_amount,0)),0)\n",
    "        / nullif(sum(t.total_amount),0) * 100, 2)      as tip_pct\n",
    "from GOLD.FCT_TRIPS t\n",
    "left join GOLD.DIM_ZONE dz on dz.zone_sk = t.pu_zone_sk\n",
    "where t.pickup_datetime >= '2019-01-01'\n",
    "  and t.pickup_datetime <  '2020-01-01'\n",
    "group by 1,2,3\n",
    "order by 2,3,1;\n"
   ]
  },
  {
   "cell_type": "markdown",
   "id": "07153b6d-0318-424c-a83c-c1a9f1c2447c",
   "metadata": {
    "collapsed": false,
    "name": "cell10"
   },
   "source": [
    "Velocidad promedio (mph) por franja horaria"
   ]
  },
  {
   "cell_type": "code",
   "execution_count": null,
   "id": "58f08f9d-ed38-41dd-8610-88f0148b60a3",
   "metadata": {
    "language": "sql",
    "name": "cell5"
   },
   "outputs": [],
   "source": [
    "with base as (\n",
    "  select\n",
    "      dz.borough,\n",
    "      case\n",
    "          when extract(hour from t.pickup_datetime) between 6 and 21 then 'day'\n",
    "          else 'night'\n",
    "      end as band,\n",
    "      sum(t.trip_distance) as sum_miles,\n",
    "      sum(t.trip_minutes)  as sum_minutes\n",
    "  from GOLD.FCT_TRIPS t\n",
    "  left join GOLD.DIM_ZONE dz on dz.zone_sk = t.pu_zone_sk\n",
    "  where t.trip_distance is not null\n",
    "    and t.trip_minutes  > 0\n",
    "    and t.pickup_datetime between '2019-01-01' and '2019-12-31'\n",
    "  group by 1,2\n",
    ")\n",
    "select\n",
    "  borough,\n",
    "  band,\n",
    "  round(sum_miles / nullif(sum_minutes,0) * 60, 2) as avg_mph\n",
    "from base\n",
    "order by borough, band;\n"
   ]
  },
  {
   "cell_type": "markdown",
   "id": "99b6fa60-a532-4116-988f-544ef5aa89f0",
   "metadata": {
    "collapsed": false,
    "name": "cell11"
   },
   "source": [
    "Duración del viaje – percentiles"
   ]
  },
  {
   "cell_type": "code",
   "execution_count": null,
   "id": "d4a8b2d5-67d8-4e9f-a4ad-e9666666204d",
   "metadata": {
    "language": "sql",
    "name": "cell12"
   },
   "outputs": [],
   "source": [
    "select\n",
    "    dz.zone_id as pu_location_id,\n",
    "    approx_percentile(t.trip_minutes, 0.5) as p50_minutes,\n",
    "    approx_percentile(t.trip_minutes, 0.9) as p90_minutes,\n",
    "    count(*) as trips\n",
    "from GOLD.FCT_TRIPS t\n",
    "left join GOLD.DIM_ZONE dz on dz.zone_sk = t.pu_zone_sk\n",
    "where t.trip_minutes > 0\n",
    "  and t.trip_minutes < 240\n",
    "  and t.pickup_datetime between '2019-01-01' and '2019-12-31'\n",
    "group by dz.zone_id\n",
    "order by trips desc;"
   ]
  },
  {
   "cell_type": "markdown",
   "id": "43c8a310-26ca-4dda-9796-00896e904b67",
   "metadata": {
    "collapsed": false,
    "name": "cell13"
   },
   "source": [
    "Elasticidad temporal – distribución por hora/día"
   ]
  },
  {
   "cell_type": "code",
   "execution_count": null,
   "id": "0d6e19fe-d9d8-4cfa-aa31-70ed03bbee3f",
   "metadata": {
    "language": "sql",
    "name": "cell14"
   },
   "outputs": [],
   "source": [
    "select\n",
    "    dayofweek(t.pickup_datetime) as dow,     -- 1=Domingo\n",
    "    extract(hour from t.pickup_datetime) as hh,\n",
    "    count(*) as trips\n",
    "from GOLD.FCT_TRIPS t\n",
    "where t.pickup_datetime between '2019-01-01' and '2019-12-31'\n",
    "group by 1,2\n",
    "order by 1,2;\n"
   ]
  },
  {
   "cell_type": "markdown",
   "id": "bed3db74-a9a5-4411-b5ac-defffe00bba8",
   "metadata": {
    "collapsed": false,
    "name": "cell15"
   },
   "source": [
    "Horas pico"
   ]
  },
  {
   "cell_type": "code",
   "execution_count": null,
   "id": "6e8b9c62-a321-48de-83ed-202d0abdbfd9",
   "metadata": {
    "language": "sql",
    "name": "cell16"
   },
   "outputs": [],
   "source": [
    "with by_hour as (\n",
    "  select\n",
    "      extract(hour from t.pickup_datetime) as hh,\n",
    "      count(*) as trips\n",
    "  from GOLD.FCT_TRIPS t\n",
    "  where t.pickup_datetime between '2019-01-01' and '2019-12-31'\n",
    "  group by 1\n",
    ")\n",
    "select *\n",
    "from by_hour\n",
    "order by trips desc\n",
    "limit 10;"
   ]
  }
 ],
 "metadata": {
  "kernelspec": {
   "display_name": "Streamlit Notebook",
   "name": "streamlit"
  },
  "lastEditStatus": {
   "authorEmail": "joel.cuascota@hotmail.com",
   "authorId": "662838074337",
   "authorName": "JACS002",
   "lastEditTime": 1758736034688,
   "notebookId": "ztstfjqvpairncvtjxmn",
   "sessionId": "a931e329-7270-4bbf-8799-abf98d6250d2"
  }
 },
 "nbformat": 4,
 "nbformat_minor": 5
}
